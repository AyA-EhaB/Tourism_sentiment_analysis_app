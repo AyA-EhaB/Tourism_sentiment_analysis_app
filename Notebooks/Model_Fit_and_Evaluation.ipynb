{
  "cells": [
    {
      "cell_type": "markdown",
      "source": [
        "#🔹 1. Importing Libraries"
      ],
      "metadata": {
        "id": "OLQZFz3gJcOZ"
      },
      "id": "OLQZFz3gJcOZ"
    },
    {
      "cell_type": "code",
      "execution_count": 19,
      "id": "13107ce1-2ddf-4de6-aa37-6504bdccdfe9",
      "metadata": {
        "id": "13107ce1-2ddf-4de6-aa37-6504bdccdfe9"
      },
      "outputs": [],
      "source": [
        "import re\n",
        "import pickle\n",
        "import time\n",
        "import numpy as np\n",
        "import pandas as pd\n",
        "import matplotlib.pyplot as plt\n",
        "import seaborn as sns\n",
        "\n",
        "from sklearn.model_selection import train_test_split\n",
        "from sklearn.preprocessing import LabelEncoder\n",
        "from sklearn.metrics import confusion_matrix, classification_report, accuracy_score\n",
        "from sklearn.feature_extraction.text import TfidfVectorizer\n",
        "\n",
        "from sklearn.svm import LinearSVC\n",
        "from sklearn.naive_bayes import BernoulliNB\n",
        "from sklearn.linear_model import LogisticRegression\n",
        "from lightgbm import LGBMClassifier\n",
        "from xgboost import XGBClassifier\n"
      ]
    },
    {
      "cell_type": "code",
      "execution_count": 20,
      "id": "fa60349e-c361-4a80-b964-e09c7011cd25",
      "metadata": {
        "id": "fa60349e-c361-4a80-b964-e09c7011cd25"
      },
      "outputs": [],
      "source": [
        "df = pd.read_csv(\"/content/Egypt_Tourism_Sentiment_Analysis.csv\")"
      ]
    },
    {
      "cell_type": "code",
      "execution_count": 21,
      "id": "e688c45c-9bf6-47f2-8d15-388204f5acc6",
      "metadata": {
        "colab": {
          "base_uri": "https://localhost:8080/",
          "height": 615
        },
        "id": "e688c45c-9bf6-47f2-8d15-388204f5acc6",
        "outputId": "413819df-a67d-4468-c22a-91a32ac23c46"
      },
      "outputs": [
        {
          "output_type": "execute_result",
          "data": {
            "text/plain": [
              "                                                  review  \\\n",
              "0      Well worth going to visit. If you are getting ...   \n",
              "1      The splendor of the pyramidsThe Seven Wonders ...   \n",
              "2      The pyramids are among the most beautiful arch...   \n",
              "3      yes it crowded, yes there is some tourist trap...   \n",
              "4      History & Mystery of The Pyramids, What a Day,...   \n",
              "...                                                  ...   \n",
              "38390  The view is absolutely worth it. However, the ...   \n",
              "38391  The Cairo tower is an essential part of the Ca...   \n",
              "38392  One of the things that disturbs me is the dual...   \n",
              "38393  Our tour guides from GAT Tours also pointed ou...   \n",
              "38394  Very good pplace to visit, you take a lift til...   \n",
              "\n",
              "                                        processed_review sentiment_ensemble  \n",
              "0      well worth going visit getting tour fantastic ...           positive  \n",
              "1      splendor pyramidsthe seven wonder world seen p...           positive  \n",
              "2      pyramid among beautiful archaeological site wo...           positive  \n",
              "3      yes crowded yes tourist trap yes queue frustra...           positive  \n",
              "4      history mystery pyramid day hit visit land leg...           positive  \n",
              "...                                                  ...                ...  \n",
              "38390  view absolutely worth however people around pu...           positive  \n",
              "38391  cairo tower essential part cairo skyline talle...           positive  \n",
              "38392  one thing disturbs dual pricing system place l...           positive  \n",
              "38393  tour guide gat tour also pointed u cairo tower...           positive  \n",
              "38394                                    good pplace vis                NaN  \n",
              "\n",
              "[38395 rows x 3 columns]"
            ],
            "text/html": [
              "\n",
              "  <div id=\"df-5f267094-6a69-4883-bd25-0a27cdbd01d9\" class=\"colab-df-container\">\n",
              "    <div>\n",
              "<style scoped>\n",
              "    .dataframe tbody tr th:only-of-type {\n",
              "        vertical-align: middle;\n",
              "    }\n",
              "\n",
              "    .dataframe tbody tr th {\n",
              "        vertical-align: top;\n",
              "    }\n",
              "\n",
              "    .dataframe thead th {\n",
              "        text-align: right;\n",
              "    }\n",
              "</style>\n",
              "<table border=\"1\" class=\"dataframe\">\n",
              "  <thead>\n",
              "    <tr style=\"text-align: right;\">\n",
              "      <th></th>\n",
              "      <th>review</th>\n",
              "      <th>processed_review</th>\n",
              "      <th>sentiment_ensemble</th>\n",
              "    </tr>\n",
              "  </thead>\n",
              "  <tbody>\n",
              "    <tr>\n",
              "      <th>0</th>\n",
              "      <td>Well worth going to visit. If you are getting ...</td>\n",
              "      <td>well worth going visit getting tour fantastic ...</td>\n",
              "      <td>positive</td>\n",
              "    </tr>\n",
              "    <tr>\n",
              "      <th>1</th>\n",
              "      <td>The splendor of the pyramidsThe Seven Wonders ...</td>\n",
              "      <td>splendor pyramidsthe seven wonder world seen p...</td>\n",
              "      <td>positive</td>\n",
              "    </tr>\n",
              "    <tr>\n",
              "      <th>2</th>\n",
              "      <td>The pyramids are among the most beautiful arch...</td>\n",
              "      <td>pyramid among beautiful archaeological site wo...</td>\n",
              "      <td>positive</td>\n",
              "    </tr>\n",
              "    <tr>\n",
              "      <th>3</th>\n",
              "      <td>yes it crowded, yes there is some tourist trap...</td>\n",
              "      <td>yes crowded yes tourist trap yes queue frustra...</td>\n",
              "      <td>positive</td>\n",
              "    </tr>\n",
              "    <tr>\n",
              "      <th>4</th>\n",
              "      <td>History &amp; Mystery of The Pyramids, What a Day,...</td>\n",
              "      <td>history mystery pyramid day hit visit land leg...</td>\n",
              "      <td>positive</td>\n",
              "    </tr>\n",
              "    <tr>\n",
              "      <th>...</th>\n",
              "      <td>...</td>\n",
              "      <td>...</td>\n",
              "      <td>...</td>\n",
              "    </tr>\n",
              "    <tr>\n",
              "      <th>38390</th>\n",
              "      <td>The view is absolutely worth it. However, the ...</td>\n",
              "      <td>view absolutely worth however people around pu...</td>\n",
              "      <td>positive</td>\n",
              "    </tr>\n",
              "    <tr>\n",
              "      <th>38391</th>\n",
              "      <td>The Cairo tower is an essential part of the Ca...</td>\n",
              "      <td>cairo tower essential part cairo skyline talle...</td>\n",
              "      <td>positive</td>\n",
              "    </tr>\n",
              "    <tr>\n",
              "      <th>38392</th>\n",
              "      <td>One of the things that disturbs me is the dual...</td>\n",
              "      <td>one thing disturbs dual pricing system place l...</td>\n",
              "      <td>positive</td>\n",
              "    </tr>\n",
              "    <tr>\n",
              "      <th>38393</th>\n",
              "      <td>Our tour guides from GAT Tours also pointed ou...</td>\n",
              "      <td>tour guide gat tour also pointed u cairo tower...</td>\n",
              "      <td>positive</td>\n",
              "    </tr>\n",
              "    <tr>\n",
              "      <th>38394</th>\n",
              "      <td>Very good pplace to visit, you take a lift til...</td>\n",
              "      <td>good pplace vis</td>\n",
              "      <td>NaN</td>\n",
              "    </tr>\n",
              "  </tbody>\n",
              "</table>\n",
              "<p>38395 rows × 3 columns</p>\n",
              "</div>\n",
              "    <div class=\"colab-df-buttons\">\n",
              "\n",
              "  <div class=\"colab-df-container\">\n",
              "    <button class=\"colab-df-convert\" onclick=\"convertToInteractive('df-5f267094-6a69-4883-bd25-0a27cdbd01d9')\"\n",
              "            title=\"Convert this dataframe to an interactive table.\"\n",
              "            style=\"display:none;\">\n",
              "\n",
              "  <svg xmlns=\"http://www.w3.org/2000/svg\" height=\"24px\" viewBox=\"0 -960 960 960\">\n",
              "    <path d=\"M120-120v-720h720v720H120Zm60-500h600v-160H180v160Zm220 220h160v-160H400v160Zm0 220h160v-160H400v160ZM180-400h160v-160H180v160Zm440 0h160v-160H620v160ZM180-180h160v-160H180v160Zm440 0h160v-160H620v160Z\"/>\n",
              "  </svg>\n",
              "    </button>\n",
              "\n",
              "  <style>\n",
              "    .colab-df-container {\n",
              "      display:flex;\n",
              "      gap: 12px;\n",
              "    }\n",
              "\n",
              "    .colab-df-convert {\n",
              "      background-color: #E8F0FE;\n",
              "      border: none;\n",
              "      border-radius: 50%;\n",
              "      cursor: pointer;\n",
              "      display: none;\n",
              "      fill: #1967D2;\n",
              "      height: 32px;\n",
              "      padding: 0 0 0 0;\n",
              "      width: 32px;\n",
              "    }\n",
              "\n",
              "    .colab-df-convert:hover {\n",
              "      background-color: #E2EBFA;\n",
              "      box-shadow: 0px 1px 2px rgba(60, 64, 67, 0.3), 0px 1px 3px 1px rgba(60, 64, 67, 0.15);\n",
              "      fill: #174EA6;\n",
              "    }\n",
              "\n",
              "    .colab-df-buttons div {\n",
              "      margin-bottom: 4px;\n",
              "    }\n",
              "\n",
              "    [theme=dark] .colab-df-convert {\n",
              "      background-color: #3B4455;\n",
              "      fill: #D2E3FC;\n",
              "    }\n",
              "\n",
              "    [theme=dark] .colab-df-convert:hover {\n",
              "      background-color: #434B5C;\n",
              "      box-shadow: 0px 1px 3px 1px rgba(0, 0, 0, 0.15);\n",
              "      filter: drop-shadow(0px 1px 2px rgba(0, 0, 0, 0.3));\n",
              "      fill: #FFFFFF;\n",
              "    }\n",
              "  </style>\n",
              "\n",
              "    <script>\n",
              "      const buttonEl =\n",
              "        document.querySelector('#df-5f267094-6a69-4883-bd25-0a27cdbd01d9 button.colab-df-convert');\n",
              "      buttonEl.style.display =\n",
              "        google.colab.kernel.accessAllowed ? 'block' : 'none';\n",
              "\n",
              "      async function convertToInteractive(key) {\n",
              "        const element = document.querySelector('#df-5f267094-6a69-4883-bd25-0a27cdbd01d9');\n",
              "        const dataTable =\n",
              "          await google.colab.kernel.invokeFunction('convertToInteractive',\n",
              "                                                    [key], {});\n",
              "        if (!dataTable) return;\n",
              "\n",
              "        const docLinkHtml = 'Like what you see? Visit the ' +\n",
              "          '<a target=\"_blank\" href=https://colab.research.google.com/notebooks/data_table.ipynb>data table notebook</a>'\n",
              "          + ' to learn more about interactive tables.';\n",
              "        element.innerHTML = '';\n",
              "        dataTable['output_type'] = 'display_data';\n",
              "        await google.colab.output.renderOutput(dataTable, element);\n",
              "        const docLink = document.createElement('div');\n",
              "        docLink.innerHTML = docLinkHtml;\n",
              "        element.appendChild(docLink);\n",
              "      }\n",
              "    </script>\n",
              "  </div>\n",
              "\n",
              "\n",
              "    <div id=\"df-0c7d4c07-84a6-49a6-be36-6b7e27b520fd\">\n",
              "      <button class=\"colab-df-quickchart\" onclick=\"quickchart('df-0c7d4c07-84a6-49a6-be36-6b7e27b520fd')\"\n",
              "                title=\"Suggest charts\"\n",
              "                style=\"display:none;\">\n",
              "\n",
              "<svg xmlns=\"http://www.w3.org/2000/svg\" height=\"24px\"viewBox=\"0 0 24 24\"\n",
              "     width=\"24px\">\n",
              "    <g>\n",
              "        <path d=\"M19 3H5c-1.1 0-2 .9-2 2v14c0 1.1.9 2 2 2h14c1.1 0 2-.9 2-2V5c0-1.1-.9-2-2-2zM9 17H7v-7h2v7zm4 0h-2V7h2v10zm4 0h-2v-4h2v4z\"/>\n",
              "    </g>\n",
              "</svg>\n",
              "      </button>\n",
              "\n",
              "<style>\n",
              "  .colab-df-quickchart {\n",
              "      --bg-color: #E8F0FE;\n",
              "      --fill-color: #1967D2;\n",
              "      --hover-bg-color: #E2EBFA;\n",
              "      --hover-fill-color: #174EA6;\n",
              "      --disabled-fill-color: #AAA;\n",
              "      --disabled-bg-color: #DDD;\n",
              "  }\n",
              "\n",
              "  [theme=dark] .colab-df-quickchart {\n",
              "      --bg-color: #3B4455;\n",
              "      --fill-color: #D2E3FC;\n",
              "      --hover-bg-color: #434B5C;\n",
              "      --hover-fill-color: #FFFFFF;\n",
              "      --disabled-bg-color: #3B4455;\n",
              "      --disabled-fill-color: #666;\n",
              "  }\n",
              "\n",
              "  .colab-df-quickchart {\n",
              "    background-color: var(--bg-color);\n",
              "    border: none;\n",
              "    border-radius: 50%;\n",
              "    cursor: pointer;\n",
              "    display: none;\n",
              "    fill: var(--fill-color);\n",
              "    height: 32px;\n",
              "    padding: 0;\n",
              "    width: 32px;\n",
              "  }\n",
              "\n",
              "  .colab-df-quickchart:hover {\n",
              "    background-color: var(--hover-bg-color);\n",
              "    box-shadow: 0 1px 2px rgba(60, 64, 67, 0.3), 0 1px 3px 1px rgba(60, 64, 67, 0.15);\n",
              "    fill: var(--button-hover-fill-color);\n",
              "  }\n",
              "\n",
              "  .colab-df-quickchart-complete:disabled,\n",
              "  .colab-df-quickchart-complete:disabled:hover {\n",
              "    background-color: var(--disabled-bg-color);\n",
              "    fill: var(--disabled-fill-color);\n",
              "    box-shadow: none;\n",
              "  }\n",
              "\n",
              "  .colab-df-spinner {\n",
              "    border: 2px solid var(--fill-color);\n",
              "    border-color: transparent;\n",
              "    border-bottom-color: var(--fill-color);\n",
              "    animation:\n",
              "      spin 1s steps(1) infinite;\n",
              "  }\n",
              "\n",
              "  @keyframes spin {\n",
              "    0% {\n",
              "      border-color: transparent;\n",
              "      border-bottom-color: var(--fill-color);\n",
              "      border-left-color: var(--fill-color);\n",
              "    }\n",
              "    20% {\n",
              "      border-color: transparent;\n",
              "      border-left-color: var(--fill-color);\n",
              "      border-top-color: var(--fill-color);\n",
              "    }\n",
              "    30% {\n",
              "      border-color: transparent;\n",
              "      border-left-color: var(--fill-color);\n",
              "      border-top-color: var(--fill-color);\n",
              "      border-right-color: var(--fill-color);\n",
              "    }\n",
              "    40% {\n",
              "      border-color: transparent;\n",
              "      border-right-color: var(--fill-color);\n",
              "      border-top-color: var(--fill-color);\n",
              "    }\n",
              "    60% {\n",
              "      border-color: transparent;\n",
              "      border-right-color: var(--fill-color);\n",
              "    }\n",
              "    80% {\n",
              "      border-color: transparent;\n",
              "      border-right-color: var(--fill-color);\n",
              "      border-bottom-color: var(--fill-color);\n",
              "    }\n",
              "    90% {\n",
              "      border-color: transparent;\n",
              "      border-bottom-color: var(--fill-color);\n",
              "    }\n",
              "  }\n",
              "</style>\n",
              "\n",
              "      <script>\n",
              "        async function quickchart(key) {\n",
              "          const quickchartButtonEl =\n",
              "            document.querySelector('#' + key + ' button');\n",
              "          quickchartButtonEl.disabled = true;  // To prevent multiple clicks.\n",
              "          quickchartButtonEl.classList.add('colab-df-spinner');\n",
              "          try {\n",
              "            const charts = await google.colab.kernel.invokeFunction(\n",
              "                'suggestCharts', [key], {});\n",
              "          } catch (error) {\n",
              "            console.error('Error during call to suggestCharts:', error);\n",
              "          }\n",
              "          quickchartButtonEl.classList.remove('colab-df-spinner');\n",
              "          quickchartButtonEl.classList.add('colab-df-quickchart-complete');\n",
              "        }\n",
              "        (() => {\n",
              "          let quickchartButtonEl =\n",
              "            document.querySelector('#df-0c7d4c07-84a6-49a6-be36-6b7e27b520fd button');\n",
              "          quickchartButtonEl.style.display =\n",
              "            google.colab.kernel.accessAllowed ? 'block' : 'none';\n",
              "        })();\n",
              "      </script>\n",
              "    </div>\n",
              "\n",
              "  <div id=\"id_bc2273fc-613c-4f66-b562-52d5f615e7a0\">\n",
              "    <style>\n",
              "      .colab-df-generate {\n",
              "        background-color: #E8F0FE;\n",
              "        border: none;\n",
              "        border-radius: 50%;\n",
              "        cursor: pointer;\n",
              "        display: none;\n",
              "        fill: #1967D2;\n",
              "        height: 32px;\n",
              "        padding: 0 0 0 0;\n",
              "        width: 32px;\n",
              "      }\n",
              "\n",
              "      .colab-df-generate:hover {\n",
              "        background-color: #E2EBFA;\n",
              "        box-shadow: 0px 1px 2px rgba(60, 64, 67, 0.3), 0px 1px 3px 1px rgba(60, 64, 67, 0.15);\n",
              "        fill: #174EA6;\n",
              "      }\n",
              "\n",
              "      [theme=dark] .colab-df-generate {\n",
              "        background-color: #3B4455;\n",
              "        fill: #D2E3FC;\n",
              "      }\n",
              "\n",
              "      [theme=dark] .colab-df-generate:hover {\n",
              "        background-color: #434B5C;\n",
              "        box-shadow: 0px 1px 3px 1px rgba(0, 0, 0, 0.15);\n",
              "        filter: drop-shadow(0px 1px 2px rgba(0, 0, 0, 0.3));\n",
              "        fill: #FFFFFF;\n",
              "      }\n",
              "    </style>\n",
              "    <button class=\"colab-df-generate\" onclick=\"generateWithVariable('df')\"\n",
              "            title=\"Generate code using this dataframe.\"\n",
              "            style=\"display:none;\">\n",
              "\n",
              "  <svg xmlns=\"http://www.w3.org/2000/svg\" height=\"24px\"viewBox=\"0 0 24 24\"\n",
              "       width=\"24px\">\n",
              "    <path d=\"M7,19H8.4L18.45,9,17,7.55,7,17.6ZM5,21V16.75L18.45,3.32a2,2,0,0,1,2.83,0l1.4,1.43a1.91,1.91,0,0,1,.58,1.4,1.91,1.91,0,0,1-.58,1.4L9.25,21ZM18.45,9,17,7.55Zm-12,3A5.31,5.31,0,0,0,4.9,8.1,5.31,5.31,0,0,0,1,6.5,5.31,5.31,0,0,0,4.9,4.9,5.31,5.31,0,0,0,6.5,1,5.31,5.31,0,0,0,8.1,4.9,5.31,5.31,0,0,0,12,6.5,5.46,5.46,0,0,0,6.5,12Z\"/>\n",
              "  </svg>\n",
              "    </button>\n",
              "    <script>\n",
              "      (() => {\n",
              "      const buttonEl =\n",
              "        document.querySelector('#id_bc2273fc-613c-4f66-b562-52d5f615e7a0 button.colab-df-generate');\n",
              "      buttonEl.style.display =\n",
              "        google.colab.kernel.accessAllowed ? 'block' : 'none';\n",
              "\n",
              "      buttonEl.onclick = () => {\n",
              "        google.colab.notebook.generateWithVariable('df');\n",
              "      }\n",
              "      })();\n",
              "    </script>\n",
              "  </div>\n",
              "\n",
              "    </div>\n",
              "  </div>\n"
            ],
            "application/vnd.google.colaboratory.intrinsic+json": {
              "type": "dataframe",
              "variable_name": "df",
              "summary": "{\n  \"name\": \"df\",\n  \"rows\": 38395,\n  \"fields\": [\n    {\n      \"column\": \"review\",\n      \"properties\": {\n        \"dtype\": \"string\",\n        \"num_unique_values\": 38361,\n        \"samples\": [\n          \"Tour operators are money sucking animals. They all will tell lies just to rub u. Nothing to see. Corals are as good as u can get right next to any resorts/hotel. So dont wast ur time.\",\n          \"if you are like me who wants to read everything that is display the entire museum then go ahead. The Museum has two floors and endless displays. I've been there for almost half day just taking photos and not reading anything.\",\n          \"Has to be seen and touched! We also went inside the great pyramid, it was very hot and no decoration on the walls nevertheless I wouldn't have missed it.\"\n        ],\n        \"semantic_type\": \"\",\n        \"description\": \"\"\n      }\n    },\n    {\n      \"column\": \"processed_review\",\n      \"properties\": {\n        \"dtype\": \"string\",\n        \"num_unique_values\": 38346,\n        \"samples\": [\n          \"enjoyed great day infinity diver boat trip beautiful coral reef teeming fish must trip visiting sharm\",\n          \"lovely museum full beautiful artifact joy spend time think long ago been.the people mange museum great experience appreciate visitor come long way shar fantastic show.in every room exabites make museum one room.perfect please time enjoy\",\n          \"great place visit family friend many thing see many thing learn great view take photo really love ticket price reasonable however ticket going inside great pyramid quite expensive\"\n        ],\n        \"semantic_type\": \"\",\n        \"description\": \"\"\n      }\n    },\n    {\n      \"column\": \"sentiment_ensemble\",\n      \"properties\": {\n        \"dtype\": \"category\",\n        \"num_unique_values\": 2,\n        \"samples\": [\n          \"non_positive\",\n          \"positive\"\n        ],\n        \"semantic_type\": \"\",\n        \"description\": \"\"\n      }\n    }\n  ]\n}"
            }
          },
          "metadata": {},
          "execution_count": 21
        }
      ],
      "source": [
        "df"
      ]
    },
    {
      "cell_type": "code",
      "source": [
        "df.isna().sum()"
      ],
      "metadata": {
        "colab": {
          "base_uri": "https://localhost:8080/",
          "height": 178
        },
        "id": "OAKR3cvNLIbg",
        "outputId": "2396da05-c3d1-400d-94a2-b028099bbc3d"
      },
      "id": "OAKR3cvNLIbg",
      "execution_count": 22,
      "outputs": [
        {
          "output_type": "execute_result",
          "data": {
            "text/plain": [
              "review                0\n",
              "processed_review      0\n",
              "sentiment_ensemble    1\n",
              "dtype: int64"
            ],
            "text/html": [
              "<div>\n",
              "<style scoped>\n",
              "    .dataframe tbody tr th:only-of-type {\n",
              "        vertical-align: middle;\n",
              "    }\n",
              "\n",
              "    .dataframe tbody tr th {\n",
              "        vertical-align: top;\n",
              "    }\n",
              "\n",
              "    .dataframe thead th {\n",
              "        text-align: right;\n",
              "    }\n",
              "</style>\n",
              "<table border=\"1\" class=\"dataframe\">\n",
              "  <thead>\n",
              "    <tr style=\"text-align: right;\">\n",
              "      <th></th>\n",
              "      <th>0</th>\n",
              "    </tr>\n",
              "  </thead>\n",
              "  <tbody>\n",
              "    <tr>\n",
              "      <th>review</th>\n",
              "      <td>0</td>\n",
              "    </tr>\n",
              "    <tr>\n",
              "      <th>processed_review</th>\n",
              "      <td>0</td>\n",
              "    </tr>\n",
              "    <tr>\n",
              "      <th>sentiment_ensemble</th>\n",
              "      <td>1</td>\n",
              "    </tr>\n",
              "  </tbody>\n",
              "</table>\n",
              "</div><br><label><b>dtype:</b> int64</label>"
            ]
          },
          "metadata": {},
          "execution_count": 22
        }
      ]
    },
    {
      "cell_type": "code",
      "source": [
        "df.dropna(inplace=True)"
      ],
      "metadata": {
        "id": "fvXIUezOLKiw"
      },
      "id": "fvXIUezOLKiw",
      "execution_count": 23,
      "outputs": []
    },
    {
      "cell_type": "code",
      "source": [
        "df.duplicated().sum()"
      ],
      "metadata": {
        "colab": {
          "base_uri": "https://localhost:8080/"
        },
        "id": "MpGQCToqLNa_",
        "outputId": "2dc52012-2b90-42af-9154-87d92f403c4a"
      },
      "id": "MpGQCToqLNa_",
      "execution_count": 24,
      "outputs": [
        {
          "output_type": "execute_result",
          "data": {
            "text/plain": [
              "np.int64(34)"
            ]
          },
          "metadata": {},
          "execution_count": 24
        }
      ]
    },
    {
      "cell_type": "code",
      "source": [
        "df.drop_duplicates(inplace=True)"
      ],
      "metadata": {
        "id": "CvbsIIJdLPQY"
      },
      "id": "CvbsIIJdLPQY",
      "execution_count": 25,
      "outputs": []
    },
    {
      "cell_type": "code",
      "execution_count": 26,
      "id": "1b668d53-8d62-4de4-83b2-1b560d26ebc9",
      "metadata": {
        "colab": {
          "base_uri": "https://localhost:8080/"
        },
        "id": "1b668d53-8d62-4de4-83b2-1b560d26ebc9",
        "outputId": "3692db62-107d-4254-f588-25986890ab9a"
      },
      "outputs": [
        {
          "output_type": "execute_result",
          "data": {
            "text/plain": [
              "Index(['review', 'processed_review', 'sentiment_ensemble'], dtype='object')"
            ]
          },
          "metadata": {},
          "execution_count": 26
        }
      ],
      "source": [
        "df.columns"
      ]
    },
    {
      "cell_type": "code",
      "execution_count": 27,
      "id": "46e8b850-a200-4419-89ca-e07bcf9c78ac",
      "metadata": {
        "id": "46e8b850-a200-4419-89ca-e07bcf9c78ac"
      },
      "outputs": [],
      "source": [
        "df['sentiment_ensemble'] = df['sentiment_ensemble'].replace('non_positive', 'negative')\n",
        "# df['sentiment_ensemble'] = df['sentiment_ensemble'].replace('neutral', 'negative')"
      ]
    },
    {
      "cell_type": "code",
      "source": [
        "df.sentiment_ensemble.value_counts()"
      ],
      "metadata": {
        "colab": {
          "base_uri": "https://localhost:8080/",
          "height": 178
        },
        "id": "XA0r9gKSKQcZ",
        "outputId": "5e29c196-7bc6-4e83-e320-d43417d5a9e5"
      },
      "id": "XA0r9gKSKQcZ",
      "execution_count": 28,
      "outputs": [
        {
          "output_type": "execute_result",
          "data": {
            "text/plain": [
              "sentiment_ensemble\n",
              "positive    34170\n",
              "negative     4190\n",
              "Name: count, dtype: int64"
            ],
            "text/html": [
              "<div>\n",
              "<style scoped>\n",
              "    .dataframe tbody tr th:only-of-type {\n",
              "        vertical-align: middle;\n",
              "    }\n",
              "\n",
              "    .dataframe tbody tr th {\n",
              "        vertical-align: top;\n",
              "    }\n",
              "\n",
              "    .dataframe thead th {\n",
              "        text-align: right;\n",
              "    }\n",
              "</style>\n",
              "<table border=\"1\" class=\"dataframe\">\n",
              "  <thead>\n",
              "    <tr style=\"text-align: right;\">\n",
              "      <th></th>\n",
              "      <th>count</th>\n",
              "    </tr>\n",
              "    <tr>\n",
              "      <th>sentiment_ensemble</th>\n",
              "      <th></th>\n",
              "    </tr>\n",
              "  </thead>\n",
              "  <tbody>\n",
              "    <tr>\n",
              "      <th>positive</th>\n",
              "      <td>34170</td>\n",
              "    </tr>\n",
              "    <tr>\n",
              "      <th>negative</th>\n",
              "      <td>4190</td>\n",
              "    </tr>\n",
              "  </tbody>\n",
              "</table>\n",
              "</div><br><label><b>dtype:</b> int64</label>"
            ]
          },
          "metadata": {},
          "execution_count": 28
        }
      ]
    },
    {
      "cell_type": "code",
      "execution_count": 29,
      "id": "14e596a7-c322-4d5f-9307-3950b13bbda4",
      "metadata": {
        "colab": {
          "base_uri": "https://localhost:8080/",
          "height": 579
        },
        "id": "14e596a7-c322-4d5f-9307-3950b13bbda4",
        "outputId": "f19a6e7e-0e30-49fc-a710-3ac9448e43cc"
      },
      "outputs": [
        {
          "output_type": "stream",
          "name": "stderr",
          "text": [
            "<ipython-input-29-7c4f04fc5fa2>:1: FutureWarning: \n",
            "\n",
            "Passing `palette` without assigning `hue` is deprecated and will be removed in v0.14.0. Assign the `x` variable to `hue` and set `legend=False` for the same effect.\n",
            "\n",
            "  sns.countplot(data=df, x='sentiment_ensemble', palette='bright')\n"
          ]
        },
        {
          "output_type": "display_data",
          "data": {
            "text/plain": [
              "<Figure size 640x480 with 1 Axes>"
            ],
            "image/png": "[encoded data removed]"
          },
          "metadata": {}
        }
      ],
      "source": [
        "sns.countplot(data=df, x='sentiment_ensemble', palette='bright')\n",
        "plt.title('Distribution of Ratings')\n",
        "plt.show()\n"
      ]
    },
    {
      "cell_type": "markdown",
      "id": "86858ac2-39a3-419f-98ed-f5b287887f8c",
      "metadata": {
        "id": "86858ac2-39a3-419f-98ed-f5b287887f8c"
      },
      "source": [
        "# Handling class imbalance by Upsamling data"
      ]
    },
    {
      "cell_type": "code",
      "source": [
        "X = df['processed_review']\n",
        "y = df['sentiment_ensemble']\n",
        "\n",
        "from sklearn.model_selection import train_test_split\n",
        "\n",
        "X_train, X_test, y_train, y_test = train_test_split(\n",
        "    X, y, test_size=0.2, stratify=y, random_state=42\n",
        ")\n",
        "\n",
        "train_df = pd.DataFrame({'processed_review': X_train, 'sentiment_ensemble': y_train})\n",
        "test_df = pd.DataFrame({'processed_review': X_test, 'sentiment_ensemble': y_test})\n"
      ],
      "metadata": {
        "id": "qnPJjD4XNqT2"
      },
      "id": "qnPJjD4XNqT2",
      "execution_count": 30,
      "outputs": []
    },
    {
      "cell_type": "code",
      "execution_count": 31,
      "id": "db8a692c-e355-4832-8d45-a1a882b12bd0",
      "metadata": {
        "id": "db8a692c-e355-4832-8d45-a1a882b12bd0"
      },
      "outputs": [],
      "source": [
        "from sklearn.utils import resample\n",
        "\n",
        "df_majority = train_df[train_df.sentiment_ensemble == 'positive']\n",
        "df_minority = train_df[train_df.sentiment_ensemble != 'positive']\n",
        "\n",
        "df_minority_upsampled = resample(\n",
        "    df_minority,\n",
        "    replace=True,\n",
        "    n_samples=len(df_majority),\n",
        "    random_state=42\n",
        ")\n",
        "\n",
        "train_upsampled = pd.concat([df_majority, df_minority_upsampled])\n"
      ]
    },
    {
      "cell_type": "code",
      "source": [
        "X_train_balanced = train_upsampled['processed_review']\n",
        "y_train_balanced = train_upsampled['sentiment_ensemble']\n",
        "\n",
        "X_test = test_df['processed_review']\n",
        "y_test = test_df['sentiment_ensemble']\n"
      ],
      "metadata": {
        "id": "s4jK_fncP_E0"
      },
      "id": "s4jK_fncP_E0",
      "execution_count": 32,
      "outputs": []
    },
    {
      "cell_type": "code",
      "source": [
        "# convert y to data frame to get value count\n",
        "y_df = pd.DataFrame(y_train_balanced)\n",
        "y_df.value_counts()"
      ],
      "metadata": {
        "colab": {
          "base_uri": "https://localhost:8080/",
          "height": 178
        },
        "id": "0P6OnrBpL_vv",
        "outputId": "3fea4fc4-21ca-4fe6-b411-36554e62f9e5"
      },
      "id": "0P6OnrBpL_vv",
      "execution_count": 33,
      "outputs": [
        {
          "output_type": "execute_result",
          "data": {
            "text/plain": [
              "sentiment_ensemble\n",
              "negative              27336\n",
              "positive              27336\n",
              "Name: count, dtype: int64"
            ],
            "text/html": [
              "<div>\n",
              "<style scoped>\n",
              "    .dataframe tbody tr th:only-of-type {\n",
              "        vertical-align: middle;\n",
              "    }\n",
              "\n",
              "    .dataframe tbody tr th {\n",
              "        vertical-align: top;\n",
              "    }\n",
              "\n",
              "    .dataframe thead th {\n",
              "        text-align: right;\n",
              "    }\n",
              "</style>\n",
              "<table border=\"1\" class=\"dataframe\">\n",
              "  <thead>\n",
              "    <tr style=\"text-align: right;\">\n",
              "      <th></th>\n",
              "      <th>count</th>\n",
              "    </tr>\n",
              "    <tr>\n",
              "      <th>sentiment_ensemble</th>\n",
              "      <th></th>\n",
              "    </tr>\n",
              "  </thead>\n",
              "  <tbody>\n",
              "    <tr>\n",
              "      <th>negative</th>\n",
              "      <td>27336</td>\n",
              "    </tr>\n",
              "    <tr>\n",
              "      <th>positive</th>\n",
              "      <td>27336</td>\n",
              "    </tr>\n",
              "  </tbody>\n",
              "</table>\n",
              "</div><br><label><b>dtype:</b> int64</label>"
            ]
          },
          "metadata": {},
          "execution_count": 33
        }
      ]
    },
    {
      "cell_type": "code",
      "execution_count": 35,
      "id": "89512532-b2dc-4c64-ab34-2b9d5224bab4",
      "metadata": {
        "id": "89512532-b2dc-4c64-ab34-2b9d5224bab4"
      },
      "outputs": [],
      "source": [
        "from sklearn.feature_extraction.text import TfidfVectorizer\n",
        "\n",
        "vectorizer = TfidfVectorizer(max_features=5000)\n",
        "X_train_tfidf = vectorizer.fit_transform(X_train_balanced)\n",
        "X_test_tfidf = vectorizer.transform(X_test)\n"
      ]
    },
    {
      "cell_type": "code",
      "execution_count": 36,
      "id": "a9f297df-1017-41e1-a1ff-3ede856bfec2",
      "metadata": {
        "id": "a9f297df-1017-41e1-a1ff-3ede856bfec2"
      },
      "outputs": [],
      "source": [
        "from sklearn.preprocessing import LabelEncoder\n",
        "\n",
        "le = LabelEncoder()\n",
        "y_train_encoded = le.fit_transform(y_train_balanced)\n",
        "y_test_encoded = le.transform(y_test)\n"
      ]
    },
    {
      "cell_type": "markdown",
      "id": "ce8d6967-f171-4c1d-a6f2-33ae790dfe06",
      "metadata": {
        "id": "ce8d6967-f171-4c1d-a6f2-33ae790dfe06"
      },
      "source": [
        "## Logistic Regression"
      ]
    },
    {
      "cell_type": "code",
      "execution_count": 37,
      "id": "10370b42-f5f0-439d-baf3-e9f311cd2026",
      "metadata": {
        "colab": {
          "base_uri": "https://localhost:8080/",
          "height": 646
        },
        "id": "10370b42-f5f0-439d-baf3-e9f311cd2026",
        "outputId": "14a5e214-006f-44c5-af3a-1d98b0e1ef0e"
      },
      "outputs": [
        {
          "output_type": "stream",
          "name": "stdout",
          "text": [
            "Accuracy: 0.8726538060479666\n",
            "              precision    recall  f1-score   support\n",
            "\n",
            "           0       0.45      0.81      0.58       838\n",
            "           1       0.97      0.88      0.92      6834\n",
            "\n",
            "    accuracy                           0.87      7672\n",
            "   macro avg       0.71      0.84      0.75      7672\n",
            "weighted avg       0.92      0.87      0.89      7672\n",
            "\n"
          ]
        },
        {
          "output_type": "display_data",
          "data": {
            "text/plain": [
              "<Figure size 640x480 with 2 Axes>"
            ],
            "image/png": "[encoded data removed]"
          },
          "metadata": {}
        }
      ],
      "source": [
        "from sklearn.linear_model import LogisticRegression\n",
        "from sklearn.metrics import classification_report, accuracy_score, confusion_matrix\n",
        "import seaborn as sns\n",
        "import matplotlib.pyplot as plt\n",
        "\n",
        "# Model\n",
        "LR_model = LogisticRegression(max_iter=1000, class_weight='balanced')\n",
        "LR_model.fit(X_train_tfidf, y_train_encoded)\n",
        "\n",
        "# Predict\n",
        "y_pred = LR_model.predict(X_test_tfidf)\n",
        "\n",
        "# Evaluation\n",
        "print(\"Accuracy:\", accuracy_score(y_test_encoded, y_pred))\n",
        "print(classification_report(y_test_encoded, y_pred))\n",
        "\n",
        "# Confusion Matrix\n",
        "sns.heatmap(confusion_matrix(y_test_encoded, y_pred), annot=True, fmt='d', cmap='Blues')\n",
        "plt.title(\"Confusion Matrix\")\n",
        "plt.xlabel(\"Predicted\")\n",
        "plt.ylabel(\"Actual\")\n",
        "plt.show()\n"
      ]
    },
    {
      "cell_type": "markdown",
      "id": "14a37390-f838-41b1-8256-b75df8eb3151",
      "metadata": {
        "id": "14a37390-f838-41b1-8256-b75df8eb3151"
      },
      "source": [
        "## Check if the model is overfitting"
      ]
    },
    {
      "cell_type": "code",
      "execution_count": 38,
      "id": "42b0928c-2967-4534-9139-f673581ca6f0",
      "metadata": {
        "colab": {
          "base_uri": "https://localhost:8080/"
        },
        "id": "42b0928c-2967-4534-9139-f673581ca6f0",
        "outputId": "5e31b42a-2a2b-4740-f94c-68ec6126f726"
      },
      "outputs": [
        {
          "output_type": "stream",
          "name": "stdout",
          "text": [
            "Train Accuracy: 0.9280618964003512\n",
            "Test Accuracy: 0.8726538060479666\n"
          ]
        }
      ],
      "source": [
        "from sklearn.metrics import accuracy_score\n",
        "\n",
        "y_train_pred = LR_model.predict(X_train_tfidf)\n",
        "train_acc = accuracy_score(y_train_encoded, y_train_pred)\n",
        "print(\"Train Accuracy:\", train_acc)\n",
        "\n",
        "test_acc = accuracy_score(y_test_encoded, y_pred)\n",
        "print(\"Test Accuracy:\", test_acc)\n",
        "\n"
      ]
    },
    {
      "cell_type": "code",
      "execution_count": 39,
      "id": "fc9153a2-d568-4cd7-a151-90f3dfafa3f8",
      "metadata": {
        "colab": {
          "base_uri": "https://localhost:8080/"
        },
        "id": "fc9153a2-d568-4cd7-a151-90f3dfafa3f8",
        "outputId": "cc1d0135-a004-4602-a7db-1adc518ea831"
      },
      "outputs": [
        {
          "output_type": "stream",
          "name": "stdout",
          "text": [
            "Cross-validation scores: [0.91147691 0.90983082 0.91101152 0.91101152 0.90378635]\n",
            "Mean CV Accuracy: 0.9094234258692614\n"
          ]
        }
      ],
      "source": [
        "from sklearn.model_selection import cross_val_score\n",
        "\n",
        "cv_scores = cross_val_score(LR_model, X_train_tfidf, y_train_encoded, cv=5)\n",
        "print(\"Cross-validation scores:\", cv_scores)\n",
        "print(\"Mean CV Accuracy:\", cv_scores.mean())\n"
      ]
    },
    {
      "cell_type": "code",
      "execution_count": 42,
      "id": "36b4bf4f-2669-46d3-9b37-66b7c8529bff",
      "metadata": {
        "colab": {
          "base_uri": "https://localhost:8080/",
          "height": 822
        },
        "id": "36b4bf4f-2669-46d3-9b37-66b7c8529bff",
        "outputId": "8a51b623-a0b0-4498-a867-34beb35d1ac8"
      },
      "outputs": [
        {
          "output_type": "stream",
          "name": "stderr",
          "text": [
            "/usr/local/lib/python3.11/dist-packages/sklearn/model_selection/_validation.py:528: FitFailedWarning: \n",
            "10 fits failed out of a total of 25.\n",
            "The score on these train-test partitions for these parameters will be set to nan.\n",
            "If these failures are not expected, you can try to debug them by setting error_score='raise'.\n",
            "\n",
            "Below are more details about the failures:\n",
            "--------------------------------------------------------------------------------\n",
            "10 fits failed with the following error:\n",
            "Traceback (most recent call last):\n",
            "  File \"/usr/local/lib/python3.11/dist-packages/sklearn/model_selection/_validation.py\", line 866, in _fit_and_score\n",
            "    estimator.fit(X_train, y_train, **fit_params)\n",
            "  File \"/usr/local/lib/python3.11/dist-packages/sklearn/base.py\", line 1389, in wrapper\n",
            "    return fit_method(estimator, *args, **kwargs)\n",
            "           ^^^^^^^^^^^^^^^^^^^^^^^^^^^^^^^^^^^^^^\n",
            "  File \"/usr/local/lib/python3.11/dist-packages/sklearn/linear_model/_logistic.py\", line 1301, in fit\n",
            "    raise ValueError(\n",
            "ValueError: This solver needs samples of at least 2 classes in the data, but the data contains only one class: np.int64(1)\n",
            "\n",
            "  warnings.warn(some_fits_failed_message, FitFailedWarning)\n"
          ]
        },
        {
          "output_type": "display_data",
          "data": {
            "text/plain": [
              "<Figure size 640x480 with 1 Axes>"
            ],
            "image/png": "[encoded data removed]"
          },
          "metadata": {}
        }
      ],
      "source": [
        "from sklearn.model_selection import learning_curve\n",
        "\n",
        "train_sizes, train_scores, val_scores = learning_curve(\n",
        "    LR_model, X_train_tfidf, y_train_encoded, cv=5, scoring='accuracy')\n",
        "\n",
        "train_mean = np.mean(train_scores, axis=1)\n",
        "val_mean = np.mean(val_scores, axis=1)\n",
        "\n",
        "plt.plot(train_sizes, train_mean, label='Training Accuracy')\n",
        "plt.plot(train_sizes, val_mean, label='Validation Accuracy')\n",
        "plt.xlabel('Training Set Size')\n",
        "plt.ylabel('Accuracy')\n",
        "plt.title('Learning Curve')\n",
        "plt.legend()\n",
        "plt.grid()\n",
        "plt.show();\n"
      ]
    },
    {
      "cell_type": "markdown",
      "source": [
        "## Gradient Booting Models"
      ],
      "metadata": {
        "id": "miapvDVkbsI4"
      },
      "id": "miapvDVkbsI4"
    },
    {
      "cell_type": "code",
      "execution_count": 43,
      "id": "db050609-ec3d-4790-a197-77caedf57fe5",
      "metadata": {
        "colab": {
          "base_uri": "https://localhost:8080/",
          "height": 874
        },
        "id": "db050609-ec3d-4790-a197-77caedf57fe5",
        "outputId": "b02e80c4-f58e-4f8c-a1dd-1c1ca121d88a"
      },
      "outputs": [
        {
          "output_type": "stream",
          "name": "stderr",
          "text": [
            "/usr/local/lib/python3.11/dist-packages/sklearn/utils/deprecation.py:151: FutureWarning: 'force_all_finite' was renamed to 'ensure_all_finite' in 1.6 and will be removed in 1.8.\n",
            "  warnings.warn(\n"
          ]
        },
        {
          "output_type": "stream",
          "name": "stdout",
          "text": [
            "[LightGBM] [Info] Number of positive: 27336, number of negative: 27336\n",
            "[LightGBM] [Info] Auto-choosing col-wise multi-threading, the overhead of testing was 1.848004 seconds.\n",
            "You can set `force_col_wise=true` to remove the overhead.\n",
            "[LightGBM] [Info] Total Bins 256170\n",
            "[LightGBM] [Info] Number of data points in the train set: 54672, number of used features: 4961\n",
            "[LightGBM] [Info] [binary:BoostFromScore]: pavg=0.500000 -> initscore=0.000000\n"
          ]
        },
        {
          "output_type": "stream",
          "name": "stderr",
          "text": [
            "/usr/local/lib/python3.11/dist-packages/sklearn/utils/deprecation.py:151: FutureWarning: 'force_all_finite' was renamed to 'ensure_all_finite' in 1.6 and will be removed in 1.8.\n",
            "  warnings.warn(\n"
          ]
        },
        {
          "output_type": "stream",
          "name": "stdout",
          "text": [
            "LightGBM Accuracy: 0.8687434827945777\n",
            "\n",
            "Classification Report:\n",
            "               precision    recall  f1-score   support\n",
            "\n",
            "           0       0.44      0.79      0.57       838\n",
            "           1       0.97      0.88      0.92      6834\n",
            "\n",
            "    accuracy                           0.87      7672\n",
            "   macro avg       0.71      0.83      0.75      7672\n",
            "weighted avg       0.91      0.87      0.88      7672\n",
            "\n"
          ]
        },
        {
          "output_type": "display_data",
          "data": {
            "text/plain": [
              "<Figure size 640x480 with 2 Axes>"
            ],
            "image/png": "[encoded data removed]"
          },
          "metadata": {}
        }
      ],
      "source": [
        "from lightgbm import LGBMClassifier\n",
        "\n",
        "lgb_model = LGBMClassifier(random_state=42)\n",
        "lgb_model.fit(X_train_tfidf, y_train_encoded)\n",
        "\n",
        "y_pred_lgb = lgb_model.predict(X_test_tfidf)\n",
        "\n",
        "print(\"LightGBM Accuracy:\", accuracy_score(y_test_encoded, y_pred_lgb))\n",
        "print(\"\\nClassification Report:\\n\", classification_report(y_test_encoded, y_pred_lgb))\n",
        "\n",
        "\n",
        "# Confusion matrix\n",
        "sns.heatmap(confusion_matrix(y_test_encoded, y_pred_lgb), annot=True, fmt='d', cmap='Blues')\n",
        "plt.title(\"Confusion Matrix\")\n",
        "plt.xlabel(\"Predicted\")\n",
        "plt.ylabel(\"Actual\")\n",
        "plt.show()"
      ]
    },
    {
      "cell_type": "code",
      "execution_count": 44,
      "id": "755128d9-be4e-4341-b9c2-57952db58059",
      "metadata": {
        "colab": {
          "base_uri": "https://localhost:8080/",
          "height": 680
        },
        "id": "755128d9-be4e-4341-b9c2-57952db58059",
        "outputId": "cf995b7d-cb3d-46d6-cfe1-4720170b87a3"
      },
      "outputs": [
        {
          "output_type": "stream",
          "name": "stdout",
          "text": [
            "XGBoost Accuracy: 0.8704379562043796\n",
            "\n",
            "Classification Report:\n",
            "               precision    recall  f1-score   support\n",
            "\n",
            "           0       0.44      0.69      0.54       838\n",
            "           1       0.96      0.89      0.92      6834\n",
            "\n",
            "    accuracy                           0.87      7672\n",
            "   macro avg       0.70      0.79      0.73      7672\n",
            "weighted avg       0.90      0.87      0.88      7672\n",
            "\n"
          ]
        },
        {
          "output_type": "display_data",
          "data": {
            "text/plain": [
              "<Figure size 640x480 with 2 Axes>"
            ],
            "image/png": "[encoded data removed]"
          },
          "metadata": {}
        }
      ],
      "source": [
        "from xgboost import XGBClassifier\n",
        "\n",
        "xgb_model = XGBClassifier(eval_metric='logloss', random_state=42)\n",
        "xgb_model.fit(X_train_tfidf, y_train_encoded)\n",
        "\n",
        "y_pred_xgb = xgb_model.predict(X_test_tfidf)\n",
        "\n",
        "print(\"XGBoost Accuracy:\", accuracy_score(y_test_encoded, y_pred_xgb))\n",
        "print(\"\\nClassification Report:\\n\", classification_report(y_test_encoded, y_pred_xgb))\n",
        "\n",
        "sns.heatmap(confusion_matrix(y_test_encoded, y_pred_xgb), annot=True, fmt='d', cmap='Blues')\n",
        "plt.title(\"Confusion Matrix\")\n",
        "plt.xlabel(\"Predicted\")\n",
        "plt.ylabel(\"Actual\")\n",
        "plt.show()"
      ]
    },
    {
      "cell_type": "markdown",
      "id": "d76409bb-533f-4689-8075-4994c7f221a9",
      "metadata": {
        "id": "d76409bb-533f-4689-8075-4994c7f221a9"
      },
      "source": [
        "## SVM"
      ]
    },
    {
      "cell_type": "code",
      "execution_count": 45,
      "id": "d0b99660-d5e8-4f86-bb52-f5eadbb4fdc8",
      "metadata": {
        "colab": {
          "base_uri": "https://localhost:8080/",
          "height": 680
        },
        "id": "d0b99660-d5e8-4f86-bb52-f5eadbb4fdc8",
        "outputId": "1ab02330-d455-4fdd-9be3-ed9031f878a4"
      },
      "outputs": [
        {
          "output_type": "stream",
          "name": "stdout",
          "text": [
            "SVM Accuracy: 0.882429614181439\n",
            "\n",
            "Classification Report:\n",
            "               precision    recall  f1-score   support\n",
            "\n",
            "           0       0.48      0.74      0.58       838\n",
            "           1       0.97      0.90      0.93      6834\n",
            "\n",
            "    accuracy                           0.88      7672\n",
            "   macro avg       0.72      0.82      0.75      7672\n",
            "weighted avg       0.91      0.88      0.89      7672\n",
            "\n"
          ]
        },
        {
          "output_type": "display_data",
          "data": {
            "text/plain": [
              "<Figure size 640x480 with 2 Axes>"
            ],
            "image/png": "[encoded data removed]"
          },
          "metadata": {}
        }
      ],
      "source": [
        "svm_model = LinearSVC(max_iter=2000, random_state=42)\n",
        "svm_model.fit(X_train_tfidf, y_train_encoded)\n",
        "y_pred_svm = svm_model.predict(X_test_tfidf)\n",
        "\n",
        "print(\"SVM Accuracy:\", accuracy_score(y_test_encoded, y_pred_svm))\n",
        "print(\"\\nClassification Report:\\n\", classification_report(y_test_encoded, y_pred_svm))\n",
        "\n",
        "sns.heatmap(confusion_matrix(y_test_encoded, y_pred_svm), annot=True, fmt='d', cmap='Blues')\n",
        "plt.title(\"Confusion Matrix\")\n",
        "plt.xlabel(\"Predicted\")\n",
        "plt.ylabel(\"Actual\")\n",
        "plt.show()"
      ]
    },
    {
      "cell_type": "markdown",
      "source": [
        "## Stochastic Gradient Descent (SGD) Classifier"
      ],
      "metadata": {
        "id": "wxs2-IMafYpN"
      },
      "id": "wxs2-IMafYpN"
    },
    {
      "cell_type": "code",
      "execution_count": 47,
      "id": "075bef6a-02fd-4464-b2b6-16c70345fdd0",
      "metadata": {
        "colab": {
          "base_uri": "https://localhost:8080/",
          "height": 680
        },
        "id": "075bef6a-02fd-4464-b2b6-16c70345fdd0",
        "outputId": "86742761-2910-40b0-8e69-918e59ab505c"
      },
      "outputs": [
        {
          "output_type": "stream",
          "name": "stdout",
          "text": [
            "SGD Accuracy: 0.8726538060479666\n",
            "\n",
            "Classification Report:\n",
            "               precision    recall  f1-score   support\n",
            "\n",
            "           0       0.43      0.55      0.48       838\n",
            "           1       0.94      0.91      0.93      6834\n",
            "\n",
            "    accuracy                           0.87      7672\n",
            "   macro avg       0.69      0.73      0.71      7672\n",
            "weighted avg       0.89      0.87      0.88      7672\n",
            "\n"
          ]
        },
        {
          "output_type": "display_data",
          "data": {
            "text/plain": [
              "<Figure size 640x480 with 2 Axes>"
            ],
            "image/png": "[encoded data removed]"
          },
          "metadata": {}
        }
      ],
      "source": [
        "from sklearn.linear_model import SGDClassifier\n",
        "from sklearn.preprocessing import StandardScaler\n",
        "from sklearn.pipeline import make_pipeline\n",
        "\n",
        "\n",
        "sgd_model = make_pipeline(StandardScaler(with_mean=False), SGDClassifier(loss='hinge',class_weight='balanced', max_iter=1000, random_state=42))\n",
        "sgd_model.fit(X_train_tfidf, y_train_encoded)\n",
        "\n",
        "y_pred_sgd = sgd_model.predict(X_test_tfidf)\n",
        "print(\"SGD Accuracy:\", accuracy_score(y_test_encoded, y_pred_sgd))\n",
        "print(\"\\nClassification Report:\\n\", classification_report(y_test_encoded, y_pred_sgd))\n",
        "\n",
        "sns.heatmap(confusion_matrix(y_test_encoded, y_pred_sgd), annot=True, fmt='d', cmap='Blues')\n",
        "plt.title(\"Confusion Matrix\")\n",
        "plt.xlabel(\"Predicted\")\n",
        "plt.ylabel(\"Actual\")\n",
        "plt.show()\n"
      ]
    },
    {
      "cell_type": "markdown",
      "source": [
        "## Random Forest"
      ],
      "metadata": {
        "id": "nTsYWL3cfefV"
      },
      "id": "nTsYWL3cfefV"
    },
    {
      "cell_type": "code",
      "execution_count": 73,
      "id": "56a26700-132b-4bc1-9282-cecf4d25977b",
      "metadata": {
        "colab": {
          "base_uri": "https://localhost:8080/",
          "height": 680
        },
        "id": "56a26700-132b-4bc1-9282-cecf4d25977b",
        "outputId": "06d24441-090b-4238-e960-10e761bf9700"
      },
      "outputs": [
        {
          "output_type": "stream",
          "name": "stdout",
          "text": [
            "RF Accuracy: 0.911235662148071\n",
            "\n",
            "Classification Report:\n",
            "               precision    recall  f1-score   support\n",
            "\n",
            "           0       0.78      0.26      0.39       838\n",
            "           1       0.92      0.99      0.95      6834\n",
            "\n",
            "    accuracy                           0.91      7672\n",
            "   macro avg       0.85      0.63      0.67      7672\n",
            "weighted avg       0.90      0.91      0.89      7672\n",
            "\n"
          ]
        },
        {
          "output_type": "display_data",
          "data": {
            "text/plain": [
              "<Figure size 640x480 with 2 Axes>"
            ],
            "image/png": "[encoded data removed]"
          },
          "metadata": {}
        }
      ],
      "source": [
        "from sklearn.ensemble import RandomForestClassifier\n",
        "\n",
        "RF_model = RandomForestClassifier(class_weight='balanced', random_state=42)\n",
        "RF_model.fit(X_train_tfidf, y_train_encoded)\n",
        "y_pred_RF = RF_model.predict(X_test_tfidf)\n",
        "print(\"RF Accuracy:\", accuracy_score(y_test_encoded, y_pred_RF))\n",
        "print(\"\\nClassification Report:\\n\", classification_report(y_test_encoded, y_pred_RF))\n",
        "\n",
        "sns.heatmap(confusion_matrix(y_test_encoded,y_pred_RF), annot=True, fmt='d', cmap='Blues')\n",
        "plt.title(\"Confusion Matrix\")\n",
        "plt.xlabel(\"Predicted\")\n",
        "plt.ylabel(\"Actual\")\n",
        "plt.show()\n"
      ]
    },
    {
      "cell_type": "markdown",
      "id": "188e3167-4930-4760-94aa-a76419ffe25f",
      "metadata": {
        "id": "188e3167-4930-4760-94aa-a76419ffe25f"
      },
      "source": [
        "## LSTM"
      ]
    },
    {
      "cell_type": "code",
      "execution_count": 75,
      "id": "dd15a6b8-6751-4a4f-ba8c-9c96a029e61a",
      "metadata": {
        "id": "dd15a6b8-6751-4a4f-ba8c-9c96a029e61a"
      },
      "outputs": [],
      "source": [
        "import tensorflow as tf\n",
        "from tensorflow.keras.preprocessing.text import Tokenizer\n",
        "from tensorflow.keras.preprocessing.sequence import pad_sequences\n",
        "from tensorflow.keras.models import Sequential\n",
        "from tensorflow.keras.layers import Embedding, LSTM, Dense, Dropout, Bidirectional\n"
      ]
    },
    {
      "cell_type": "code",
      "source": [
        "\n",
        "# Tokenization\n",
        "tokenizer = Tokenizer(num_words=10000, oov_token=\"<OOV>\")\n",
        "tokenizer.fit_on_texts(train_upsampled['processed_review'])\n",
        "\n",
        "# Convert to sequences\n",
        "train_sequences = tokenizer.texts_to_sequences(train_upsampled['processed_review'])\n",
        "test_sequences = tokenizer.texts_to_sequences(test_df['processed_review'])\n",
        "\n",
        "# Pad sequences\n",
        "X_train_padded = pad_sequences(train_sequences, maxlen=200, padding='post', truncating='post')\n",
        "X_test_padded = pad_sequences(test_sequences, maxlen=200, padding='post', truncating='post')\n",
        "\n"
      ],
      "metadata": {
        "id": "Bra72cqiqJFh"
      },
      "id": "Bra72cqiqJFh",
      "execution_count": 76,
      "outputs": []
    },
    {
      "cell_type": "code",
      "source": [
        "\n",
        "# LSTM Model\n",
        "model_lstm = Sequential([\n",
        "    Embedding(input_dim=10000, output_dim=128, input_length=200),\n",
        "    Bidirectional(LSTM(64, return_sequences=True)),\n",
        "    Dropout(0.3),\n",
        "    Bidirectional(LSTM(32)),\n",
        "    Dense(64, activation='relu'),\n",
        "    Dropout(0.3),\n",
        "    Dense(2, activation='softmax')\n",
        "])\n"
      ],
      "metadata": {
        "colab": {
          "base_uri": "https://localhost:8080/"
        },
        "id": "NGdIWC4SqqXG",
        "outputId": "b71a98e2-0424-4dc1-fb5f-0fe801f70e33"
      },
      "id": "NGdIWC4SqqXG",
      "execution_count": 77,
      "outputs": [
        {
          "output_type": "stream",
          "name": "stderr",
          "text": [
            "/usr/local/lib/python3.11/dist-packages/keras/src/layers/core/embedding.py:90: UserWarning: Argument `input_length` is deprecated. Just remove it.\n",
            "  warnings.warn(\n"
          ]
        }
      ]
    },
    {
      "cell_type": "code",
      "source": [
        "\n",
        "model_lstm.compile(loss='sparse_categorical_crossentropy', optimizer='adam', metrics=['accuracy'])\n",
        "\n",
        "# Train the model\n",
        "history = model_lstm.fit(X_train_padded, y_train_encoded, epochs=3, validation_split=0.1, batch_size=64)\n"
      ],
      "metadata": {
        "colab": {
          "base_uri": "https://localhost:8080/"
        },
        "id": "q9LvzzxPqu5X",
        "outputId": "29cb6784-647e-4e36-d17a-221c7895f6bf"
      },
      "id": "q9LvzzxPqu5X",
      "execution_count": 78,
      "outputs": [
        {
          "output_type": "stream",
          "name": "stdout",
          "text": [
            "Epoch 1/3\n",
            "\u001b[1m769/769\u001b[0m \u001b[32m━━━━━━━━━━━━━━━━━━━━\u001b[0m\u001b[37m\u001b[0m \u001b[1m513s\u001b[0m 657ms/step - accuracy: 0.8092 - loss: 0.3928 - val_accuracy: 0.9612 - val_loss: 0.1531\n",
            "Epoch 2/3\n",
            "\u001b[1m769/769\u001b[0m \u001b[32m━━━━━━━━━━━━━━━━━━━━\u001b[0m\u001b[37m\u001b[0m \u001b[1m501s\u001b[0m 652ms/step - accuracy: 0.9660 - loss: 0.1036 - val_accuracy: 0.9764 - val_loss: 0.0838\n",
            "Epoch 3/3\n",
            "\u001b[1m769/769\u001b[0m \u001b[32m━━━━━━━━━━━━━━━━━━━━\u001b[0m\u001b[37m\u001b[0m \u001b[1m501s\u001b[0m 651ms/step - accuracy: 0.9845 - loss: 0.0490 - val_accuracy: 0.9850 - val_loss: 0.0554\n"
          ]
        }
      ]
    },
    {
      "cell_type": "code",
      "source": [
        "from sklearn.metrics import ConfusionMatrixDisplay\n",
        "\n",
        "# Predict on test set\n",
        "y_pred_probs = model_lstm.predict(X_test_padded)\n",
        "y_pred_classes = np.argmax(y_pred_probs, axis=1)\n",
        "\n",
        "# Evaluation\n",
        "print(\"\\nClassification Report:\\n\", classification_report(y_test_encoded, y_pred_classes,target_names=le.classes_))\n",
        "\n",
        "# Confusion Matrix\n",
        "cm = confusion_matrix(y_test_encoded, y_pred_classes)\n",
        "disp = ConfusionMatrixDisplay(confusion_matrix=cm, display_labels=le.classes_)\n",
        "disp.plot(cmap='Blues')\n",
        "plt.title(\"LSTM Confusion Matrix\")\n",
        "plt.show()\n"
      ],
      "metadata": {
        "colab": {
          "base_uri": "https://localhost:8080/",
          "height": 680
        },
        "id": "mVNio2wFrCiu",
        "outputId": "66bedffc-e72e-4461-eed0-06520fde689e"
      },
      "id": "mVNio2wFrCiu",
      "execution_count": 79,
      "outputs": [
        {
          "output_type": "stream",
          "name": "stdout",
          "text": [
            "\u001b[1m240/240\u001b[0m \u001b[32m━━━━━━━━━━━━━━━━━━━━\u001b[0m\u001b[37m\u001b[0m \u001b[1m23s\u001b[0m 94ms/step\n",
            "\n",
            "Classification Report:\n",
            "               precision    recall  f1-score   support\n",
            "\n",
            "    negative       0.57      0.45      0.51       838\n",
            "    positive       0.93      0.96      0.95      6834\n",
            "\n",
            "    accuracy                           0.90      7672\n",
            "   macro avg       0.75      0.71      0.73      7672\n",
            "weighted avg       0.90      0.90      0.90      7672\n",
            "\n"
          ]
        },
        {
          "output_type": "display_data",
          "data": {
            "text/plain": [
              "<Figure size 640x480 with 2 Axes>"
            ],
            "image/png": "[encoded data removed]"
          },
          "metadata": {}
        }
      ]
    },
    {
      "cell_type": "code",
      "source": [
        "\n",
        "# Predict on sample reviews\n",
        "test_reviews = [\n",
        "    \"I absolutely loved my trip to Egypt, the pyramids were breathtaking!\",\n",
        "    \"It was dirty, crowded, and overpriced — very disappointing.\",\n",
        "    \"The tour guide was okay, but the rest was just bad and I didn't like the weather.\"\n",
        "]\n",
        "\n",
        "test_seq = tokenizer.texts_to_sequences(test_reviews)\n",
        "test_pad = pad_sequences(test_seq, maxlen=200, padding='post', truncating='post')\n",
        "test_preds = model_lstm.predict(test_pad)\n",
        "test_labels = le.inverse_transform(np.argmax(test_preds, axis=1))\n",
        "\n",
        "for review, label in zip(test_reviews, test_labels):\n",
        "    print(f\"Review: {review}\\nPredicted Sentiment: {label}\\n\")\n"
      ],
      "metadata": {
        "colab": {
          "base_uri": "https://localhost:8080/"
        },
        "id": "biVBUgXVrGcu",
        "outputId": "1d47607a-e3ac-42ab-e88a-15f7a2ec318e"
      },
      "id": "biVBUgXVrGcu",
      "execution_count": 80,
      "outputs": [
        {
          "output_type": "stream",
          "name": "stdout",
          "text": [
            "\u001b[1m1/1\u001b[0m \u001b[32m━━━━━━━━━━━━━━━━━━━━\u001b[0m\u001b[37m\u001b[0m \u001b[1m0s\u001b[0m 68ms/step\n",
            "Review: I absolutely loved my trip to Egypt, the pyramids were breathtaking!\n",
            "Predicted Sentiment: positive\n",
            "\n",
            "Review: It was dirty, crowded, and overpriced — very disappointing.\n",
            "Predicted Sentiment: negative\n",
            "\n",
            "Review: The tour guide was okay, but the rest was just bad and I didn't like the weather.\n",
            "Predicted Sentiment: negative\n",
            "\n"
          ]
        }
      ]
    },
    {
      "cell_type": "markdown",
      "id": "69ab052f-1ad4-4476-a612-6bcddac9956d",
      "metadata": {
        "id": "69ab052f-1ad4-4476-a612-6bcddac9956d"
      },
      "source": [
        "## GRU"
      ]
    },
    {
      "cell_type": "code",
      "execution_count": 81,
      "id": "98eb7b18-5c75-4619-a969-ab06a3a117c6",
      "metadata": {
        "colab": {
          "base_uri": "https://localhost:8080/"
        },
        "id": "98eb7b18-5c75-4619-a969-ab06a3a117c6",
        "outputId": "9e3d6d09-37f6-4042-94fc-c5056aed046b"
      },
      "outputs": [
        {
          "output_type": "stream",
          "name": "stdout",
          "text": [
            "Epoch 1/3\n"
          ]
        },
        {
          "output_type": "stream",
          "name": "stderr",
          "text": [
            "/usr/local/lib/python3.11/dist-packages/keras/src/layers/core/embedding.py:90: UserWarning: Argument `input_length` is deprecated. Just remove it.\n",
            "  warnings.warn(\n"
          ]
        },
        {
          "output_type": "stream",
          "name": "stdout",
          "text": [
            "\u001b[1m769/769\u001b[0m \u001b[32m━━━━━━━━━━━━━━━━━━━━\u001b[0m\u001b[37m\u001b[0m \u001b[1m567s\u001b[0m 726ms/step - accuracy: 0.7863 - loss: 0.4309 - val_accuracy: 0.9713 - val_loss: 0.1058\n",
            "Epoch 2/3\n",
            "\u001b[1m769/769\u001b[0m \u001b[32m━━━━━━━━━━━━━━━━━━━━\u001b[0m\u001b[37m\u001b[0m \u001b[1m562s\u001b[0m 726ms/step - accuracy: 0.9640 - loss: 0.1105 - val_accuracy: 0.9738 - val_loss: 0.1022\n",
            "Epoch 3/3\n",
            "\u001b[1m769/769\u001b[0m \u001b[32m━━━━━━━━━━━━━━━━━━━━\u001b[0m\u001b[37m\u001b[0m \u001b[1m569s\u001b[0m 739ms/step - accuracy: 0.9828 - loss: 0.0530 - val_accuracy: 0.9945 - val_loss: 0.0237\n",
            "\u001b[1m240/240\u001b[0m \u001b[32m━━━━━━━━━━━━━━━━━━━━\u001b[0m\u001b[37m\u001b[0m \u001b[1m21s\u001b[0m 86ms/step\n",
            "              precision    recall  f1-score   support\n",
            "\n",
            "    negative       0.55      0.53      0.54       838\n",
            "    positive       0.94      0.95      0.95      6834\n",
            "\n",
            "    accuracy                           0.90      7672\n",
            "   macro avg       0.75      0.74      0.74      7672\n",
            "weighted avg       0.90      0.90      0.90      7672\n",
            "\n"
          ]
        }
      ],
      "source": [
        "from tensorflow.keras.layers import Embedding, GRU, Dense, Dropout, Bidirectional\n",
        "\n",
        "model_gru = Sequential([\n",
        "    Embedding(input_dim=10000, output_dim=128, input_length=200),\n",
        "    Bidirectional(GRU(64, return_sequences=True)),\n",
        "    Dropout(0.3),\n",
        "    Bidirectional(GRU(32)),\n",
        "    Dense(64, activation='relu'),\n",
        "    Dropout(0.3),\n",
        "    Dense(2, activation='softmax')\n",
        "])\n",
        "\n",
        "model_gru.compile(loss='sparse_categorical_crossentropy', optimizer='adam', metrics=['accuracy'])\n",
        "\n",
        "history = model_gru.fit(X_train_padded, y_train_encoded, epochs=3, validation_split=0.1, batch_size=64)\n",
        "\n",
        "y_pred = model_gru.predict(X_test_padded)\n",
        "y_pred_classes = np.argmax(y_pred, axis=1)\n",
        "\n",
        "print(classification_report(y_test_encoded, y_pred_classes, target_names=le.classes_))"
      ]
    },
    {
      "cell_type": "code",
      "execution_count": 82,
      "id": "d54055bb-88a0-4aa1-8b8f-c3f5125e44ac",
      "metadata": {
        "colab": {
          "base_uri": "https://localhost:8080/",
          "height": 449
        },
        "id": "d54055bb-88a0-4aa1-8b8f-c3f5125e44ac",
        "outputId": "5335e5f5-aa8f-4282-c52e-100536083ad0"
      },
      "outputs": [
        {
          "output_type": "display_data",
          "data": {
            "text/plain": [
              "<Figure size 640x480 with 2 Axes>"
            ],
            "image/png": "[encoded data removed]"
          },
          "metadata": {}
        }
      ],
      "source": [
        "from sklearn.metrics import confusion_matrix, ConfusionMatrixDisplay\n",
        "import matplotlib.pyplot as plt\n",
        "\n",
        "cm = confusion_matrix(y_test_encoded, y_pred_classes)\n",
        "disp = ConfusionMatrixDisplay(confusion_matrix=cm, display_labels=le.classes_)\n",
        "disp.plot(cmap='Blues')\n",
        "plt.show()\n"
      ]
    },
    {
      "cell_type": "markdown",
      "source": [
        "### Save ML Models"
      ],
      "metadata": {
        "id": "_KD0oNbv-Z-N"
      },
      "id": "_KD0oNbv-Z-N"
    },
    {
      "cell_type": "code",
      "source": [
        "import pickle\n"
      ],
      "metadata": {
        "id": "DTFXu06E-bqM"
      },
      "id": "DTFXu06E-bqM",
      "execution_count": 83,
      "outputs": []
    },
    {
      "cell_type": "code",
      "source": [
        "# Save Logistic Regression\n",
        "with open('logistic_regression_model.pkl', 'wb') as file:\n",
        "    pickle.dump(LR_model, file)\n",
        "\n",
        "# Save SVM\n",
        "with open('svm_model.pkl', 'wb') as file:\n",
        "    pickle.dump(svm_model, file)\n",
        "\n",
        "# Save XGBoost\n",
        "with open('xgboost_model.pkl', 'wb') as file:\n",
        "    pickle.dump(xgb_model, file)\n",
        "\n",
        "# Save LightGBM\n",
        "with open('lightgbm_model.pkl', 'wb') as file:\n",
        "    pickle.dump(lgb_model, file)\n",
        "\n",
        "# Save Random Forest\n",
        "with open('random_forest_model.pkl', 'wb') as file:\n",
        "    pickle.dump(RF_model, file)  # replace 'model' if RF used another variable\n"
      ],
      "metadata": {
        "id": "9SJ2tt0E-euz"
      },
      "id": "9SJ2tt0E-euz",
      "execution_count": 84,
      "outputs": []
    },
    {
      "cell_type": "markdown",
      "source": [
        "### Save Deep Learning Models (LSTM & GRU)"
      ],
      "metadata": {
        "id": "646iIz9W_yaE"
      },
      "id": "646iIz9W_yaE"
    },
    {
      "cell_type": "code",
      "source": [
        "# Save LSTM\n",
        "model_lstm.save(\"lstm_model.h5\")\n",
        "model_gru.save(\"gru_model.h5\")\n"
      ],
      "metadata": {
        "colab": {
          "base_uri": "https://localhost:8080/"
        },
        "id": "nGoTTdlR_vAQ",
        "outputId": "2b87657f-ae7c-4134-b867-56cdd0d8c7ed"
      },
      "id": "nGoTTdlR_vAQ",
      "execution_count": 85,
      "outputs": [
        {
          "output_type": "stream",
          "name": "stderr",
          "text": [
            "WARNING:absl:You are saving your model as an HDF5 file via `model.save()` or `keras.saving.save_model(model)`. This file format is considered legacy. We recommend using instead the native Keras format, e.g. `model.save('my_model.keras')` or `keras.saving.save_model(model, 'my_model.keras')`. \n",
            "WARNING:absl:You are saving your model as an HDF5 file via `model.save()` or `keras.saving.save_model(model)`. This file format is considered legacy. We recommend using instead the native Keras format, e.g. `model.save('my_model.keras')` or `keras.saving.save_model(model, 'my_model.keras')`. \n"
          ]
        }
      ]
    },
    {
      "cell_type": "code",
      "source": [
        "with open('tokenizer.pkl', 'wb') as f:\n",
        "    pickle.dump(tokenizer, f)\n",
        "\n",
        "with open('label_encoder.pkl', 'wb') as f:\n",
        "    pickle.dump(le, f)\n"
      ],
      "metadata": {
        "id": "v6gBK9xDArj2"
      },
      "id": "v6gBK9xDArj2",
      "execution_count": 87,
      "outputs": []
    },
    {
      "cell_type": "code",
      "source": [],
      "metadata": {
        "id": "80qjcRIDPelk"
      },
      "id": "80qjcRIDPelk",
      "execution_count": null,
      "outputs": []
    }
  ],
  "metadata": {
    "kernelspec": {
      "display_name": "Python 3 (ipykernel)",
      "language": "python",
      "name": "python3"
    },
    "language_info": {
      "codemirror_mode": {
        "name": "ipython",
        "version": 3
      },
      "file_extension": ".py",
      "mimetype": "text/x-python",
      "name": "python",
      "nbconvert_exporter": "python",
      "pygments_lexer": "ipython3",
      "version": "3.12.7"
    },
    "colab": {
      "provenance": []
    }
  },
  "nbformat": 4,
  "nbformat_minor": 5
}